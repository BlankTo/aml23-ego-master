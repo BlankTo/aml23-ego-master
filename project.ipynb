{
 "cells": [
  {
   "cell_type": "code",
   "execution_count": null,
   "metadata": {},
   "outputs": [],
   "source": [
    "%%bash\n",
    "## extract features from clips with 5 frames_per_clip and dense sampling\n",
    "\n",
    "python save_feat.py config=configs/save_feat/save_feat_D1_train_RGB_5_dense_conf.yaml\n",
    "python save_feat.py config=configs/save_feat/save_feat_D1_test_RGB_5_dense_conf.yaml"
   ]
  },
  {
   "cell_type": "code",
   "execution_count": null,
   "metadata": {},
   "outputs": [],
   "source": [
    "%%bash\n",
    "## extract features from clips with 10 frames_per_clip and dense sampling\n",
    "\n",
    "python save_feat.py config=configs/save_feat/save_feat_D1_train_RGB_10_dense_conf.yaml\n",
    "python save_feat.py config=configs/save_feat/save_feat_D1_test_RGB_10_dense_conf.yaml"
   ]
  },
  {
   "cell_type": "code",
   "execution_count": null,
   "metadata": {},
   "outputs": [],
   "source": [
    "%%bash\n",
    "## extract features from clips with 25 frames_per_clip and dense sampling\n",
    "\n",
    "python save_feat.py config=configs/save_feat/save_feat_D1_train_RGB_25_dense_conf.yaml\n",
    "python save_feat.py config=configs/save_feat/save_feat_D1_test_RGB_25_dense_conf.yaml"
   ]
  },
  {
   "cell_type": "code",
   "execution_count": null,
   "metadata": {},
   "outputs": [],
   "source": [
    "%%bash\n",
    "## extract features from clips with 5 frames_per_clip and uniform sampling\n",
    "\n",
    "python save_feat.py config=configs/save_feat/save_feat_D1_train_RGB_5_uniform_conf.yaml\n",
    "python save_feat.py config=configs/save_feat/save_feat_D1_test_RGB_5_uniform_conf.yaml"
   ]
  },
  {
   "cell_type": "code",
   "execution_count": null,
   "metadata": {},
   "outputs": [],
   "source": [
    "%%bash\n",
    "## extract features from clips with 10 frames_per_clip and uniform sampling\n",
    "\n",
    "python save_feat.py config=configs/save_feat/save_feat_D1_train_RGB_10_uniform_conf.yaml\n",
    "python save_feat.py config=configs/save_feat/save_feat_D1_test_RGB_10_uniform_conf.yaml"
   ]
  },
  {
   "cell_type": "code",
   "execution_count": null,
   "metadata": {},
   "outputs": [],
   "source": [
    "%%bash\n",
    "## extract features from clips with 25 frames_per_clip and uniform sampling\n",
    "\n",
    "python save_feat.py config=configs/save_feat/save_feat_D1_train_RGB_25_uniform_conf.yaml\n",
    "python save_feat.py config=configs/save_feat/save_feat_D1_test_RGB_25_uniform_conf.yaml"
   ]
  },
  {
   "cell_type": "code",
   "execution_count": null,
   "metadata": {},
   "outputs": [],
   "source": [
    "%%bash\n",
    "## analyze the extracted features using PCA and clustering\n",
    "\n",
    "python extracted_feature_analysis/rgb_feature_visualization.py"
   ]
  },
  {
   "cell_type": "code",
   "execution_count": null,
   "metadata": {},
   "outputs": [],
   "source": [
    "%%bash\n",
    "## train simple MLP classifier on the extracted features with average pooled temporal dimension\n",
    "\n",
    "python train_classifier.py config=configs/train_classifier/MLP_avg_pooling/MLP_avg_pooling_D1_5_dense.yaml\n",
    "python clean_logs.py config=configs/train_classifier/MLP_avg_pooling/MLP_avg_pooling_D1_5_dense.yaml\n",
    "\n",
    "python train_classifier.py config=configs/train_classifier/MLP_avg_pooling/MLP_avg_pooling_D1_10_dense.yaml\n",
    "python clean_logs.py config=configs/train_classifier/MLP_avg_pooling/MLP_avg_pooling_D1_10_dense.yaml\n",
    "\n",
    "python train_classifier.py config=configs/train_classifier/MLP_avg_pooling/MLP_avg_pooling_D1_25_dense.yaml\n",
    "python clean_logs.py config=configs/train_classifier/MLP_avg_pooling/MLP_avg_pooling_D1_25_dense.yaml\n",
    "\n",
    "python train_classifier.py config=configs/train_classifier/MLP_avg_pooling/MLP_avg_pooling_D1_5_uniform.yaml\n",
    "python clean_logs.py config=configs/train_classifier/MLP_avg_pooling/MLP_avg_pooling_D1_5_uniform.yaml\n",
    "\n",
    "python train_classifier.py config=configs/train_classifier/MLP_avg_pooling/MLP_avg_pooling_D1_10_uniform.yaml\n",
    "python clean_logs.py config=configs/train_classifier/MLP_avg_pooling/MLP_avg_pooling_D1_10_uniform.yaml\n",
    "\n",
    "python train_classifier.py config=configs/train_classifier/MLP_avg_pooling/MLP_avg_pooling_D1_25_uniform.yaml\n",
    "python clean_logs.py config=configs/train_classifier/MLP_avg_pooling/MLP_avg_pooling_D1_25_uniform.yaml"
   ]
  },
  {
   "cell_type": "code",
   "execution_count": null,
   "metadata": {},
   "outputs": [],
   "source": [
    "%%bash\n",
    "## train simple MLP classifier on the extracted features with average pooled temporal dimension\n",
    "\n",
    "#python train_classifier.py config=configs/train_classifier/MLP_max_pooling/MLP_max_pooling_D1_5_dense.yaml\n",
    "#python clean_logs.py config=configs/train_classifier/MLP_max_pooling/MLP_max_pooling_D1_5_dense.yaml\n",
    "#\n",
    "#python train_classifier.py config=configs/train_classifier/MLP_max_pooling/MLP_max_pooling_D1_10_dense.yaml\n",
    "#python clean_logs.py config=configs/train_classifier/MLP_max_pooling/MLP_max_pooling_D1_10_dense.yaml\n",
    "#\n",
    "#python train_classifier.py config=configs/train_classifier/MLP_max_pooling/MLP_max_pooling_D1_25_dense.yaml\n",
    "#python clean_logs.py config=configs/train_classifier/MLP_max_pooling/MLP_max_pooling_D1_25_dense.yaml\n",
    "#\n",
    "#python train_classifier.py config=configs/train_classifier/MLP_max_pooling/MLP_max_pooling_D1_5_uniform.yaml\n",
    "#python clean_logs.py config=configs/train_classifier/MLP_max_pooling/MLP_max_pooling_D1_5_uniform.yaml\n",
    "\n",
    "python train_classifier.py config=configs/train_classifier/MLP_max_pooling/MLP_max_pooling_D1_10_uniform.yaml\n",
    "python clean_logs.py config=configs/train_classifier/MLP_max_pooling/MLP_max_pooling_D1_10_uniform.yaml\n",
    "\n",
    "python train_classifier.py config=configs/train_classifier/MLP_max_pooling/MLP_max_pooling_D1_25_uniform.yaml\n",
    "python clean_logs.py config=configs/train_classifier/MLP_max_pooling/MLP_max_pooling_D1_25_uniform.yaml"
   ]
  },
  {
   "cell_type": "code",
   "execution_count": null,
   "metadata": {},
   "outputs": [],
   "source": [
    "%%bash\n",
    "## train simple MLP classifier on the extracted features\n",
    "\n",
    "python train_classifier.py config=configs/train_classifier/MLP_single_clip/MLP_single_clip_D1_5_dense.yaml\n",
    "python clean_logs.py config=configs/train_classifier/MLP_single_clip/MLP_single_clip_D1_5_dense.yaml\n",
    "\n",
    "python train_classifier.py config=configs/train_classifier/MLP_single_clip/MLP_single_clip_D1_10_dense.yaml\n",
    "python clean_logs.py config=configs/train_classifier/MLP_single_clip/MLP_single_clip_D1_10_dense.yaml\n",
    "\n",
    "python train_classifier.py config=configs/train_classifier/MLP_single_clip/MLP_single_clip_D1_25_dense.yaml\n",
    "python clean_logs.py config=configs/train_classifier/MLP_single_clip/MLP_single_clip_D1_25_dense.yaml\n",
    "\n",
    "python train_classifier.py config=configs/train_classifier/MLP_single_clip/MLP_single_clip_D1_5_uniform.yaml\n",
    "python clean_logs.py config=configs/train_classifier/MLP_single_clip/MLP_single_clip_D1_5_uniform.yaml\n",
    "\n",
    "python train_classifier.py config=configs/train_classifier/MLP_single_clip/MLP_single_clip_D1_10_uniform.yaml\n",
    "python clean_logs.py config=configs/train_classifier/MLP_single_clip/MLP_single_clip_D1_10_uniform.yaml\n",
    "\n",
    "python train_classifier.py config=configs/train_classifier/MLP_single_clip/MLP_single_clip_D1_25_uniform.yaml\n",
    "python clean_logs.py config=configs/train_classifier/MLP_single_clip/MLP_single_clip_D1_25_uniform.yaml"
   ]
  },
  {
   "cell_type": "code",
   "execution_count": null,
   "metadata": {},
   "outputs": [],
   "source": [
    "%%bash\n",
    "## train TRN classifier on the extracted features\n",
    "\n",
    "python train_classifier.py config=configs/train_classifier/TRN/TRN_D1_5_dense.yaml\n",
    "python clean_logs.py config=configs/train_classifier/TRN/TRN_D1_5_dense.yaml\n",
    "\n",
    "python train_classifier.py config=configs/train_classifier/TRN/TRN_D1_10_dense.yaml\n",
    "python clean_logs.py config=configs/train_classifier/TRN/TRN_D1_10_dense.yaml\n",
    "\n",
    "python train_classifier.py config=configs/train_classifier/TRN/TRN_D1_25_dense.yaml\n",
    "python clean_logs.py config=configs/train_classifier/TRN/TRN_D1_25_dense.yaml\n",
    "\n",
    "python train_classifier.py config=configs/train_classifier/TRN/TRN_D1_5_uniform.yaml\n",
    "python clean_logs.py config=configs/train_classifier/TRN/TRN_D1_5_uniform.yaml\n",
    "\n",
    "python train_classifier.py config=configs/train_classifier/TRN/TRN_D1_10_uniform.yaml\n",
    "python clean_logs.py config=configs/train_classifier/TRN/TRN_D1_10_uniform.yaml\n",
    "\n",
    "python train_classifier.py config=configs/train_classifier/TRN/TRN_D1_25_uniform.yaml\n",
    "python clean_logs.py config=configs/train_classifier/TRN/TRN_D1_25_uniform.yaml"
   ]
  },
  {
   "cell_type": "code",
   "execution_count": null,
   "metadata": {},
   "outputs": [],
   "source": [
    "%%bash\n",
    "## creation of rgb, emg and spectrogram data for actionnet dataset with 5 and 10 seconds resampling\n",
    "\n",
    "python action_net/emg_dataset_creator.py"
   ]
  },
  {
   "cell_type": "code",
   "execution_count": null,
   "metadata": {},
   "outputs": [],
   "source": [
    "%%bash\n",
    "## train LSTM classifier on the emg features\n",
    "\n",
    "# verb class as label\n",
    "\n",
    "python train_classifier_emg.py config=configs/train_classifier_emg/LSTM_5s_emg_base.yaml\n",
    "python clean_logs.py config=configs/train_classifier_emg/LSTM_5s_emg_base.yaml\n",
    "\n",
    "python train_classifier_emg.py config=configs/train_classifier_emg/LSTM_10s_emg_base.yaml\n",
    "python clean_logs.py config=configs/train_classifier_emg/LSTM_10s_emg_base.yaml\n",
    "\n",
    "# narration as label\n",
    "\n",
    "python train_classifier_emg.py config=configs/train_classifier_emg/LSTM_5s_emg_base_action.yaml\n",
    "python clean_logs.py config=configs/train_classifier_emg/LSTM_5s_emg_base_action.yaml\n",
    "\n",
    "python train_classifier_emg.py config=configs/train_classifier_emg/LSTM_10s_emg_base_action.yaml\n",
    "python clean_logs.py config=configs/train_classifier_emg/LSTM_10s_emg_base_action.yaml"
   ]
  },
  {
   "cell_type": "code",
   "execution_count": null,
   "metadata": {},
   "outputs": [],
   "source": [
    "%%bash\n",
    "## train LSTM classifier on the emg features\n",
    "\n",
    "# verb class as label\n",
    "\n",
    "python train_classifier_emg.py config=configs/train_classifier_emg/LSTM_5s_emg.yaml\n",
    "python clean_logs.py config=configs/train_classifier_emg/LSTM_5s_emg.yaml\n",
    "\n",
    "python train_classifier_emg.py config=configs/train_classifier_emg/LSTM_10s_emg.yaml\n",
    "python clean_logs.py config=configs/train_classifier_emg/LSTM_10s_emg.yaml\n",
    "\n",
    "# narration as label\n",
    "\n",
    "python train_classifier_emg.py config=configs/train_classifier_emg/LSTM_5s_emg_action.yaml\n",
    "python clean_logs.py config=configs/train_classifier_emg/LSTM_5s_emg_action.yaml\n",
    "\n",
    "python train_classifier_emg.py config=configs/train_classifier_emg/LSTM_10s_emg_action.yaml\n",
    "python clean_logs.py config=configs/train_classifier_emg/LSTM_10s_emg_action.yaml"
   ]
  },
  {
   "cell_type": "code",
   "execution_count": null,
   "metadata": {},
   "outputs": [],
   "source": [
    "%%bash\n",
    "## train 2D-CNN classifier on the spectrograms of the emg features\n",
    "\n",
    "# verb class as label\n",
    "\n",
    "python train_classifier_spec.py config=configs/train_classifier_spec/CNN_5s_spec.yaml\n",
    "python clean_logs.py config=configs/train_classifier_spec/CNN_5s_spec.yaml\n",
    "\n",
    "python train_classifier_spec.py config=configs/train_classifier_spec/CNN_10s_spec.yaml\n",
    "python clean_logs.py config=configs/train_classifier_spec/CNN_10s_spec.yaml\n",
    "\n",
    "#action\n",
    "\n",
    "python train_classifier_spec.py config=configs/train_classifier_spec/CNN_5s_spec_action.yaml\n",
    "python clean_logs.py config=configs/train_classifier_spec/CNN_5s_spec_action.yaml\n",
    "\n",
    "python train_classifier_spec.py config=configs/train_classifier_spec/CNN_10s_spec_action.yaml\n",
    "python clean_logs.py config=configs/train_classifier_spec/CNN_10s_spec_action.yaml"
   ]
  }
 ],
 "metadata": {
  "kernelspec": {
   "display_name": "aml_venv",
   "language": "python",
   "name": "python3"
  },
  "language_info": {
   "codemirror_mode": {
    "name": "ipython",
    "version": 3
   },
   "file_extension": ".py",
   "mimetype": "text/x-python",
   "name": "python",
   "nbconvert_exporter": "python",
   "pygments_lexer": "ipython3",
   "version": "3.10.11"
  }
 },
 "nbformat": 4,
 "nbformat_minor": 2
}
