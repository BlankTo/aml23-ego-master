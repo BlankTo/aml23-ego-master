{
 "cells": [
  {
   "attachments": {},
   "cell_type": "markdown",
   "metadata": {},
   "source": [
    "# EMG spectrogram visualization\n",
    "\n",
    "This notebook shows how to compute the spectrogram of the EMG samples capture by the Myo armband.\n",
    "\n",
    "NOTE: you need to install the additional library `librosa` to generate the spectrogram plot."
   ]
  },
  {
   "cell_type": "code",
   "execution_count": null,
   "metadata": {},
   "outputs": [],
   "source": [
    "import torch\n",
    "import torchaudio\n",
    "import torchaudio.functional as F\n",
    "import torchaudio.transforms as T\n",
    "\n",
    "import pandas as pd"
   ]
  },
  {
   "cell_type": "code",
   "execution_count": null,
   "metadata": {},
   "outputs": [],
   "source": [
    "import librosa\n",
    "import matplotlib.pyplot as plt\n",
    "\n",
    "def plot_spectrogram(specgram, title=None, ylabel=\"freq_bin\"):\n",
    "    fig, axs = plt.subplots(len(specgram), 1, figsize=(16, 8))\n",
    "\n",
    "    axs[0].set_title(title or \"Spectrogram (db)\")\n",
    "\n",
    "    for i, spec in enumerate(specgram):\n",
    "        im = axs[i].imshow(librosa.power_to_db(specgram[i]), origin=\"lower\", aspect=\"auto\")\n",
    "        axs[i].get_xaxis().set_visible(False)\n",
    "        axs[i].get_yaxis().set_visible(False)\n",
    "\n",
    "    axs[i].set_xlabel(\"Frame number\")\n",
    "    axs[i].get_xaxis().set_visible(True)\n",
    "    plt.show(block=False)"
   ]
  },
  {
   "cell_type": "code",
   "execution_count": null,
   "metadata": {},
   "outputs": [],
   "source": [
    "# Sampling frequency is 160 Hz\n",
    "# With 32 samples the frequency resolution after FFT is 160 / 32\n",
    "\n",
    "n_fft = 32\n",
    "win_length = None\n",
    "hop_length = 4\n",
    "\n",
    "spectrogram = T.Spectrogram(\n",
    "    n_fft=n_fft,\n",
    "    win_length=win_length,\n",
    "    hop_length=hop_length,\n",
    "    center=True,\n",
    "    pad_mode=\"reflect\",\n",
    "    power=2.0,\n",
    "    normalized=True\n",
    ")\n",
    "\n",
    "\n",
    "def compute_spectrogram(signal, title):\n",
    "    freq_signal = [spectrogram(signal[:, i]) for i in range(8)]\n",
    "    plot_spectrogram(freq_signal, title=title)"
   ]
  },
  {
   "cell_type": "code",
   "execution_count": null,
   "metadata": {},
   "outputs": [],
   "source": [
    "# Replace with your path to one of the subjects from Action-Net\n",
    "emg_annotations = pd.read_pickle(\"../../aml22-ego-solutions/action-net/emg_annotations/S04_1.pkl\")\n",
    "\n",
    "sample_no = 1\n",
    "signal = torch.from_numpy(emg_annotations.iloc[sample_no].myo_left_readings).float()\n",
    "title = emg_annotations.iloc[sample_no].description"
   ]
  },
  {
   "cell_type": "code",
   "execution_count": null,
   "metadata": {},
   "outputs": [],
   "source": [
    "compute_spectrogram(signal, title)"
   ]
  }
 ],
 "metadata": {
  "kernelspec": {
   "display_name": "aml22",
   "language": "python",
   "name": "python3"
  },
  "language_info": {
   "codemirror_mode": {
    "name": "ipython",
    "version": 3
   },
   "file_extension": ".py",
   "mimetype": "text/x-python",
   "name": "python",
   "nbconvert_exporter": "python",
   "pygments_lexer": "ipython3",
   "version": "3.7.13"
  },
  "orig_nbformat": 4,
  "vscode": {
   "interpreter": {
    "hash": "2fc1f0eeae38a5df67b0f713e03196095ce1bfa55aa551576e8e58c2ba904c5a"
   }
  }
 },
 "nbformat": 4,
 "nbformat_minor": 2
}
